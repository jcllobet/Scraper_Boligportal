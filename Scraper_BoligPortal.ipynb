{
 "cells": [
  {
   "cell_type": "markdown",
   "metadata": {},
   "source": [
    "# BoligPortal Scraper (with Selenium)"
   ]
  },
  {
   "cell_type": "markdown",
   "metadata": {},
   "source": [
    "### Relevant Libraries"
   ]
  },
  {
   "cell_type": "code",
   "execution_count": 1,
   "metadata": {},
   "outputs": [],
   "source": [
    "from selenium import webdriver\n",
    "from webdriver_manager.chrome import ChromeDriverManager\n",
    "from time import sleep\n",
    "from bs4 import BeautifulSoup as bs\n",
    "\n",
    "from datetime import datetime\n",
    "import os\n",
    "\n",
    "import pandas as pd\n",
    "import numpy as np"
   ]
  },
  {
   "cell_type": "markdown",
   "metadata": {},
   "source": [
    "### ProgressBar Function to follow the scraper's progress"
   ]
  },
  {
   "cell_type": "code",
   "execution_count": 2,
   "metadata": {},
   "outputs": [],
   "source": [
    "from functions import printProgressBar"
   ]
  },
  {
   "cell_type": "markdown",
   "metadata": {},
   "source": [
    "### Selenium start-up"
   ]
  },
  {
   "cell_type": "code",
   "execution_count": 3,
   "metadata": {},
   "outputs": [
    {
     "name": "stderr",
     "output_type": "stream",
     "text": [
      "[WDM] - Current google-chrome version is 84.0.4147\n",
      "[WDM] - Get LATEST driver version for 84.0.4147\n",
      "[WDM] - Driver [/home/jan/.wdm/drivers/chromedriver/linux64/84.0.4147.30/chromedriver] found in cache\n"
     ]
    },
    {
     "name": "stdout",
     "output_type": "stream",
     "text": [
      " \n"
     ]
    }
   ],
   "source": [
    "# <<< Insert your starting URL in the line below >>>\n",
    "\n",
    "# First page of ads in all desired areas of Copenhagen\n",
    "start_url='https://www.boligportal.dk/find?placeIds=19%2C817%2C14%2C49%2C106%2C24%2C44&housingTypes=1%2C3%2C4&maxRent=10500' \n",
    "\n",
    "options = webdriver.ChromeOptions()\n",
    "driver = webdriver.Chrome(ChromeDriverManager().install())\n",
    "driver.get(start_url)\n",
    "sleep(1)"
   ]
  },
  {
   "cell_type": "markdown",
   "metadata": {},
   "source": [
    "### Creating a results folder"
   ]
  },
  {
   "cell_type": "code",
   "execution_count": 5,
   "metadata": {},
   "outputs": [
    {
     "name": "stdout",
     "output_type": "stream",
     "text": [
      "Directory  240820  already exists\n"
     ]
    }
   ],
   "source": [
    "# Create folder for the .csv results\n",
    "\n",
    "wd = \"/home/jan/Code/Scraper_Boligportal/results\"\n",
    "\n",
    "now = datetime.now()\n",
    "current_time = now.strftime(\"%d%m%y\")\n",
    "dirName = current_time\n",
    "\n",
    "try:\n",
    "    # Create target Directory\n",
    "    os.mkdir(os.path.join(wd, dirName))\n",
    "    print(\"Directory \" , dirName ,  \" Created \") \n",
    "except FileExistsError:\n",
    "    print(\"Directory \" , dirName ,  \" already exists\")"
   ]
  },
  {
   "cell_type": "markdown",
   "metadata": {},
   "source": [
    "### URLs to scrape"
   ]
  },
  {
   "cell_type": "code",
   "execution_count": 6,
   "metadata": {},
   "outputs": [],
   "source": [
    "# Extract the number of pages from the last Pagination button at the bottom of the page\n",
    "\n",
    "soup = bs(driver.page_source, 'html')\n",
    "num_pages = soup.find_all('a', {'class': 'PaginationControls__page'})[-1].getText() \n",
    "num_pages = int(num_pages)\n",
    "\n",
    "# Extract number of ads\n",
    "num_ads = num_pages * 18"
   ]
  },
  {
   "cell_type": "code",
   "execution_count": 7,
   "metadata": {},
   "outputs": [],
   "source": [
    "# Create a range of numbers to generate the URLs to scrape\n",
    "start_record = np.arange(0, num_ads, 18)"
   ]
  },
  {
   "cell_type": "code",
   "execution_count": 8,
   "metadata": {},
   "outputs": [],
   "source": [
    "# Generate URLs to scrape, corresponding to page numbers (1, 2, 3, etc..)\n",
    "\n",
    "urls = []\n",
    "\n",
    "for i in start_record:\n",
    "    url = start_url + '&startRecord={}'.format(i)\n",
    "    urls.append(url)"
   ]
  },
  {
   "cell_type": "markdown",
   "metadata": {},
   "source": [
    "### Scraping"
   ]
  },
  {
   "cell_type": "code",
   "execution_count": 9,
   "metadata": {
    "scrolled": false
   },
   "outputs": [
    {
     "name": "stdout",
     "output_type": "stream",
     "text": [
      "Scraping... |███████████████████████████████████████████████████████████████████████████████████████████---------| 91.7% \r"
     ]
    }
   ],
   "source": [
    "# Selenium will go through each page (from the URLs list) and extract the AdCardWrappers\n",
    "# Then, it will extract each AdCard's information\n",
    "\n",
    "data = []\n",
    "\n",
    "for url in urls:\n",
    "    \n",
    "    driver.get(url)\n",
    "    sleep(1)\n",
    "    soup = bs(driver.page_source, 'html')\n",
    "    \n",
    "    ads_buttons = soup.find_all('div', {'class': 'AdCardWrapper'})\n",
    "    \n",
    "    for ad in ads_buttons:\n",
    "    \n",
    "        try:\n",
    "            title = ad.find('div', {'class': 'AdCard__title'}).getText() \n",
    "        except:\n",
    "            title = -1\n",
    "\n",
    "        try:\n",
    "            price = ad.find('div', {'class': 'AdCard__price'}).getText() \n",
    "        except:\n",
    "            price = -1\n",
    "\n",
    "        try:\n",
    "            location = ad.find('div', {'class': 'AdCard__location'}).getText() \n",
    "        except:\n",
    "            location = -1\n",
    "\n",
    "        try:\n",
    "            date = ad.find('div', {'class': 'AdCard__date'}).getText() \n",
    "        except:\n",
    "            date = -1\n",
    "\n",
    "        try:\n",
    "            link = 'boligportal.dk' + ad.find('a', {'itemprop' : 'url'}).get('href')\n",
    "        except:\n",
    "            link = -1\n",
    "\n",
    "        try:\n",
    "            description = ad.find('div', {'class': 'AdCard__description'}).getText() \n",
    "        except:\n",
    "            description = -1\n",
    "\n",
    "\n",
    "        data.append({\"Title\": title,\n",
    "                     \"Price\": price,\n",
    "                     \"Location\": location,\n",
    "                     \"When\": date,\n",
    "                     \"Description\": description,\n",
    "                     \"URL\": link})\n",
    "\n",
    "    printProgressBar(urls.index(url), len(urls), prefix = 'Scraping...')"
   ]
  },
  {
   "cell_type": "code",
   "execution_count": 10,
   "metadata": {},
   "outputs": [
    {
     "data": {
      "text/html": [
       "<div>\n",
       "<style scoped>\n",
       "    .dataframe tbody tr th:only-of-type {\n",
       "        vertical-align: middle;\n",
       "    }\n",
       "\n",
       "    .dataframe tbody tr th {\n",
       "        vertical-align: top;\n",
       "    }\n",
       "\n",
       "    .dataframe thead th {\n",
       "        text-align: right;\n",
       "    }\n",
       "</style>\n",
       "<table border=\"1\" class=\"dataframe\">\n",
       "  <thead>\n",
       "    <tr style=\"text-align: right;\">\n",
       "      <th></th>\n",
       "      <th>Title</th>\n",
       "      <th>Price</th>\n",
       "      <th>Location</th>\n",
       "      <th>When</th>\n",
       "      <th>Description</th>\n",
       "      <th>URL</th>\n",
       "    </tr>\n",
       "  </thead>\n",
       "  <tbody>\n",
       "    <tr>\n",
       "      <td>0</td>\n",
       "      <td>1 værelses lejlighed på 32 m²</td>\n",
       "      <td>10.100,-</td>\n",
       "      <td>København K, Store Kongensgade</td>\n",
       "      <td>Fremhævet</td>\n",
       "      <td>Her er en unik mulighed for at flytte ind i de...</td>\n",
       "      <td>boligportal.dk/lejebolig/dp/1-vaerelses-lejlig...</td>\n",
       "    </tr>\n",
       "    <tr>\n",
       "      <td>1</td>\n",
       "      <td>3 værelses lejlighed på 70 m²</td>\n",
       "      <td>10.271,-</td>\n",
       "      <td>København S, Else Alfelts Vej</td>\n",
       "      <td>Fremhævet</td>\n",
       "      <td>Nyopført ejendom med 2 og 3 værelses lejlighed...</td>\n",
       "      <td>boligportal.dk/lejebolig/dp/3-vaerelses-lejlig...</td>\n",
       "    </tr>\n",
       "    <tr>\n",
       "      <td>2</td>\n",
       "      <td>1 værelses lejlighed på 45 m²</td>\n",
       "      <td>8.500,-</td>\n",
       "      <td>København NV, Gravervænget</td>\n",
       "      <td>Fremhævet</td>\n",
       "      <td>Rummelig et værelses lejlighed 15 minutter fra...</td>\n",
       "      <td>boligportal.dk/lejebolig/dp/1-vaerelses-lejlig...</td>\n",
       "    </tr>\n",
       "    <tr>\n",
       "      <td>3</td>\n",
       "      <td>1 værelses lejlighed på 33 m²</td>\n",
       "      <td>9.950,-</td>\n",
       "      <td>København K, Store Kongensgade</td>\n",
       "      <td>3 timer siden</td>\n",
       "      <td>1- OG 2-VÆRELSES BOLIGER DEN GAMLE POLITISTATI...</td>\n",
       "      <td>boligportal.dk/lejebolig/dp/1-vaerelses-lejlig...</td>\n",
       "    </tr>\n",
       "    <tr>\n",
       "      <td>4</td>\n",
       "      <td>2 værelses lejlighed på 47 m²</td>\n",
       "      <td>3.500,-</td>\n",
       "      <td>København NV, Vilhelm Birkedals Vej</td>\n",
       "      <td>5 timer siden</td>\n",
       "      <td>En super hyggelig og møbleret egoist-lejlighed...</td>\n",
       "      <td>boligportal.dk/lejebolig/dp/2-vaerelses-lejlig...</td>\n",
       "    </tr>\n",
       "    <tr>\n",
       "      <td>...</td>\n",
       "      <td>...</td>\n",
       "      <td>...</td>\n",
       "      <td>...</td>\n",
       "      <td>...</td>\n",
       "      <td>...</td>\n",
       "      <td>...</td>\n",
       "    </tr>\n",
       "    <tr>\n",
       "      <td>199</td>\n",
       "      <td>2 værelses lejlighed på 45 m²</td>\n",
       "      <td>9.245,-</td>\n",
       "      <td>København Ø, Willemoesgade</td>\n",
       "      <td>9 måneder siden</td>\n",
       "      <td>God lejlighed i Willemoesgade-kvarteret \\nDenn...</td>\n",
       "      <td>boligportal.dk/lejebolig/dp/2-vaerelses-lejlig...</td>\n",
       "    </tr>\n",
       "    <tr>\n",
       "      <td>200</td>\n",
       "      <td>2 værelses lejlighed på 40 m²</td>\n",
       "      <td>9.800,-</td>\n",
       "      <td>København Ø, Landskronagade</td>\n",
       "      <td>et år siden</td>\n",
       "      <td>Rigtig god lejlighed tæt på offentlig transpor...</td>\n",
       "      <td>boligportal.dk/lejebolig/dp/2-vaerelses-lejlig...</td>\n",
       "    </tr>\n",
       "    <tr>\n",
       "      <td>201</td>\n",
       "      <td>2 værelses lejlighed på 40 m²</td>\n",
       "      <td>9.800,-</td>\n",
       "      <td>København Ø, Landskronagade</td>\n",
       "      <td>et år siden</td>\n",
       "      <td>Rigtig god lejlighed tæt på offentlig transpor...</td>\n",
       "      <td>boligportal.dk/lejebolig/dp/2-vaerelses-lejlig...</td>\n",
       "    </tr>\n",
       "    <tr>\n",
       "      <td>202</td>\n",
       "      <td>1 værelses lejlighed på 27 m²</td>\n",
       "      <td>6.199,-</td>\n",
       "      <td>København NV, Dortheavej</td>\n",
       "      <td>2 år siden</td>\n",
       "      <td>Få lejlighed med eget køkken og bad i et af de...</td>\n",
       "      <td>boligportal.dk/lejebolig/dp/1-vaerelses-lejlig...</td>\n",
       "    </tr>\n",
       "    <tr>\n",
       "      <td>203</td>\n",
       "      <td>2 værelses lejlighed på 46 m²</td>\n",
       "      <td>9.000,-</td>\n",
       "      <td>København Ø, Viborggade</td>\n",
       "      <td>2 år siden</td>\n",
       "      <td>Firma udlejer fuldt møblerede lejligheder med ...</td>\n",
       "      <td>boligportal.dk/lejebolig/dp/2-vaerelses-lejlig...</td>\n",
       "    </tr>\n",
       "  </tbody>\n",
       "</table>\n",
       "<p>204 rows × 6 columns</p>\n",
       "</div>"
      ],
      "text/plain": [
       "                             Title     Price  \\\n",
       "0    1 værelses lejlighed på 32 m²  10.100,-   \n",
       "1    3 værelses lejlighed på 70 m²  10.271,-   \n",
       "2    1 værelses lejlighed på 45 m²   8.500,-   \n",
       "3    1 værelses lejlighed på 33 m²   9.950,-   \n",
       "4    2 værelses lejlighed på 47 m²   3.500,-   \n",
       "..                             ...       ...   \n",
       "199  2 værelses lejlighed på 45 m²   9.245,-   \n",
       "200  2 værelses lejlighed på 40 m²   9.800,-   \n",
       "201  2 værelses lejlighed på 40 m²   9.800,-   \n",
       "202  1 værelses lejlighed på 27 m²   6.199,-   \n",
       "203  2 værelses lejlighed på 46 m²   9.000,-   \n",
       "\n",
       "                                Location             When  \\\n",
       "0         København K, Store Kongensgade        Fremhævet   \n",
       "1          København S, Else Alfelts Vej        Fremhævet   \n",
       "2             København NV, Gravervænget        Fremhævet   \n",
       "3         København K, Store Kongensgade    3 timer siden   \n",
       "4    København NV, Vilhelm Birkedals Vej    5 timer siden   \n",
       "..                                   ...              ...   \n",
       "199           København Ø, Willemoesgade  9 måneder siden   \n",
       "200          København Ø, Landskronagade      et år siden   \n",
       "201          København Ø, Landskronagade      et år siden   \n",
       "202             København NV, Dortheavej       2 år siden   \n",
       "203              København Ø, Viborggade       2 år siden   \n",
       "\n",
       "                                           Description  \\\n",
       "0    Her er en unik mulighed for at flytte ind i de...   \n",
       "1    Nyopført ejendom med 2 og 3 værelses lejlighed...   \n",
       "2    Rummelig et værelses lejlighed 15 minutter fra...   \n",
       "3    1- OG 2-VÆRELSES BOLIGER DEN GAMLE POLITISTATI...   \n",
       "4    En super hyggelig og møbleret egoist-lejlighed...   \n",
       "..                                                 ...   \n",
       "199  God lejlighed i Willemoesgade-kvarteret \\nDenn...   \n",
       "200  Rigtig god lejlighed tæt på offentlig transpor...   \n",
       "201  Rigtig god lejlighed tæt på offentlig transpor...   \n",
       "202  Få lejlighed med eget køkken og bad i et af de...   \n",
       "203  Firma udlejer fuldt møblerede lejligheder med ...   \n",
       "\n",
       "                                                   URL  \n",
       "0    boligportal.dk/lejebolig/dp/1-vaerelses-lejlig...  \n",
       "1    boligportal.dk/lejebolig/dp/3-vaerelses-lejlig...  \n",
       "2    boligportal.dk/lejebolig/dp/1-vaerelses-lejlig...  \n",
       "3    boligportal.dk/lejebolig/dp/1-vaerelses-lejlig...  \n",
       "4    boligportal.dk/lejebolig/dp/2-vaerelses-lejlig...  \n",
       "..                                                 ...  \n",
       "199  boligportal.dk/lejebolig/dp/2-vaerelses-lejlig...  \n",
       "200  boligportal.dk/lejebolig/dp/2-vaerelses-lejlig...  \n",
       "201  boligportal.dk/lejebolig/dp/2-vaerelses-lejlig...  \n",
       "202  boligportal.dk/lejebolig/dp/1-vaerelses-lejlig...  \n",
       "203  boligportal.dk/lejebolig/dp/2-vaerelses-lejlig...  \n",
       "\n",
       "[204 rows x 6 columns]"
      ]
     },
     "execution_count": 10,
     "metadata": {},
     "output_type": "execute_result"
    }
   ],
   "source": [
    "# Scraped data preview\n",
    "db pd.DataFrame(data)"
   ]
  },
  {
   "cell_type": "code",
   "execution_count": 11,
   "metadata": {
    "scrolled": false
   },
   "outputs": [],
   "source": [
    "# Create a dataframe with the data\n",
    "\n",
    "df = pd.DataFrame(data)"
   ]
  },
  {
   "cell_type": "code",
   "execution_count": null,
   "metadata": {},
   "outputs": [],
   "source": []
  },
  {
   "cell_type": "code",
   "execution_count": 12,
   "metadata": {},
   "outputs": [],
   "source": [
    "#df = df.drop_duplicates(subset=None, keep='first', inplace=False)"
   ]
  },
  {
   "cell_type": "markdown",
   "metadata": {},
   "source": [
    "### Functions to clean/manipulate the dataframe"
   ]
  },
  {
   "cell_type": "code",
   "execution_count": 13,
   "metadata": {},
   "outputs": [],
   "source": [
    "def get_rooms(row):\n",
    "    \n",
    "    ''' Function to use with df.apply. Creates a Rooms column by extracting the number of rooms from the Ad title '''\n",
    "    \n",
    "    if 'Værelse' in row.Title:\n",
    "        return 0\n",
    "    \n",
    "    else:\n",
    "        try:\n",
    "            if len([int(s) for s in row.Title.split() if s.isdigit()]) == 1:\n",
    "                return 1\n",
    "            else:\n",
    "                return [int(s) for s in row.Title.split() if s.isdigit()][0]\n",
    "        except:\n",
    "            return -1"
   ]
  },
  {
   "cell_type": "code",
   "execution_count": 14,
   "metadata": {},
   "outputs": [],
   "source": [
    "def get_m2(row):\n",
    "    \n",
    "    ''' Function to use with df.apply. Creates a m2 column by extracting the squared meters from the Ad title '''\n",
    "    \n",
    "    try:\n",
    "        \n",
    "        try:\n",
    "            return [int(s) for s in row.Title.split() if s.isdigit()][1]\n",
    "        except:\n",
    "            return [int(s) for s in row.Title.split() if s.isdigit()][0]\n",
    "    \n",
    "    except: \n",
    "        return -1"
   ]
  },
  {
   "cell_type": "code",
   "execution_count": 15,
   "metadata": {},
   "outputs": [],
   "source": [
    "def en_et_to_one(column):\n",
    "    \n",
    "    '''To use on the column containing the age of the Ad. Replaces 'en and 'et' with 1, Fremhævet with 0, removes 'siden' '''\n",
    "    \n",
    "    column = column.str.replace('Fremhævet', '0')\n",
    "    column = column.str.replace('siden', '')\n",
    "    column = column.str.replace('en','1', 1)\n",
    "    column = column.str.replace('et','1', 1)\n",
    "    \n",
    "    return column"
   ]
  },
  {
   "cell_type": "code",
   "execution_count": 16,
   "metadata": {},
   "outputs": [],
   "source": [
    "def posted_x_days_ago(row):\n",
    "    \n",
    "    ''' Extracts age of post in terms of days '''\n",
    "\n",
    "    if 'dag' in row.When:\n",
    "        return [int(s) for s in row.When.split() if s.isdigit()][0]\n",
    "    \n",
    "    elif 'måned' in row.When:\n",
    "        return [int(s) for s in row.When.split() if s.isdigit()][0] * 30\n",
    "    \n",
    "    elif 'år' in row.When:\n",
    "        return [int(s) for s in row.When.split() if s.isdigit()][0] * 365\n",
    "\n",
    "    else:\n",
    "        return 0"
   ]
  },
  {
   "cell_type": "markdown",
   "metadata": {},
   "source": [
    "### Dataframe cleaning/manipulation"
   ]
  },
  {
   "cell_type": "code",
   "execution_count": 17,
   "metadata": {},
   "outputs": [],
   "source": [
    "df['Rooms'] = df.apply(lambda row: get_rooms(row), axis = 1) "
   ]
  },
  {
   "cell_type": "code",
   "execution_count": 18,
   "metadata": {},
   "outputs": [],
   "source": [
    "df['m2'] = df.apply(lambda row: get_m2(row), axis = 1)"
   ]
  },
  {
   "cell_type": "code",
   "execution_count": 19,
   "metadata": {},
   "outputs": [],
   "source": [
    "df['Price'] = df['Price'].apply(lambda row: row.replace(\",-\", \"\"))"
   ]
  },
  {
   "cell_type": "code",
   "execution_count": 20,
   "metadata": {
    "scrolled": true
   },
   "outputs": [],
   "source": [
    "df[['Neighbourhood','Street']] = df.Location.str.split(\", \", expand=True)\n",
    "#df = df.drop('Empty', axis = 1)"
   ]
  },
  {
   "cell_type": "code",
   "execution_count": 21,
   "metadata": {},
   "outputs": [],
   "source": [
    "df.When = en_et_to_one(df.When)\n",
    "df['Posted days ago'] = df.apply(lambda row: posted_x_days_ago(row), axis = 1)\n",
    "df = df.drop('When', axis = 1)"
   ]
  },
  {
   "cell_type": "code",
   "execution_count": 22,
   "metadata": {},
   "outputs": [],
   "source": [
    "df = df[['Title', 'Price', 'Rooms', 'm2', 'Neighbourhood', 'Street', 'Posted days ago', 'Description', 'URL']]"
   ]
  },
  {
   "cell_type": "code",
   "execution_count": 23,
   "metadata": {},
   "outputs": [],
   "source": [
    "df = df.sort_values(by = 'Posted days ago', ascending = True)"
   ]
  },
  {
   "cell_type": "code",
   "execution_count": 30,
   "metadata": {},
   "outputs": [
    {
     "data": {
      "text/html": [
       "<div>\n",
       "<style scoped>\n",
       "    .dataframe tbody tr th:only-of-type {\n",
       "        vertical-align: middle;\n",
       "    }\n",
       "\n",
       "    .dataframe tbody tr th {\n",
       "        vertical-align: top;\n",
       "    }\n",
       "\n",
       "    .dataframe thead th {\n",
       "        text-align: right;\n",
       "    }\n",
       "</style>\n",
       "<table border=\"1\" class=\"dataframe\">\n",
       "  <thead>\n",
       "    <tr style=\"text-align: right;\">\n",
       "      <th></th>\n",
       "      <th>Title</th>\n",
       "      <th>Price</th>\n",
       "      <th>Rooms</th>\n",
       "      <th>m2</th>\n",
       "      <th>Neighbourhood</th>\n",
       "      <th>Street</th>\n",
       "      <th>Posted days ago</th>\n",
       "      <th>Description</th>\n",
       "      <th>URL</th>\n",
       "    </tr>\n",
       "  </thead>\n",
       "  <tbody>\n",
       "    <tr>\n",
       "      <td>0</td>\n",
       "      <td>1 værelses lejlighed på 32 m²</td>\n",
       "      <td>10.100</td>\n",
       "      <td>1</td>\n",
       "      <td>32</td>\n",
       "      <td>København K</td>\n",
       "      <td>Store Kongensgade</td>\n",
       "      <td>0</td>\n",
       "      <td>Her er en unik mulighed for at flytte ind i de...</td>\n",
       "      <td>boligportal.dk/lejebolig/dp/1-vaerelses-lejlig...</td>\n",
       "    </tr>\n",
       "    <tr>\n",
       "      <td>1</td>\n",
       "      <td>3 værelses lejlighed på 70 m²</td>\n",
       "      <td>10.271</td>\n",
       "      <td>3</td>\n",
       "      <td>70</td>\n",
       "      <td>København S</td>\n",
       "      <td>Else Alfelts Vej</td>\n",
       "      <td>0</td>\n",
       "      <td>Nyopført ejendom med 2 og 3 værelses lejlighed...</td>\n",
       "      <td>boligportal.dk/lejebolig/dp/3-vaerelses-lejlig...</td>\n",
       "    </tr>\n",
       "    <tr>\n",
       "      <td>2</td>\n",
       "      <td>1 værelses lejlighed på 45 m²</td>\n",
       "      <td>8.500</td>\n",
       "      <td>1</td>\n",
       "      <td>45</td>\n",
       "      <td>København NV</td>\n",
       "      <td>Gravervænget</td>\n",
       "      <td>0</td>\n",
       "      <td>Rummelig et værelses lejlighed 15 minutter fra...</td>\n",
       "      <td>boligportal.dk/lejebolig/dp/1-vaerelses-lejlig...</td>\n",
       "    </tr>\n",
       "    <tr>\n",
       "      <td>3</td>\n",
       "      <td>1 værelses lejlighed på 33 m²</td>\n",
       "      <td>9.950</td>\n",
       "      <td>1</td>\n",
       "      <td>33</td>\n",
       "      <td>København K</td>\n",
       "      <td>Store Kongensgade</td>\n",
       "      <td>0</td>\n",
       "      <td>1- OG 2-VÆRELSES BOLIGER DEN GAMLE POLITISTATI...</td>\n",
       "      <td>boligportal.dk/lejebolig/dp/1-vaerelses-lejlig...</td>\n",
       "    </tr>\n",
       "    <tr>\n",
       "      <td>4</td>\n",
       "      <td>2 værelses lejlighed på 47 m²</td>\n",
       "      <td>3.500</td>\n",
       "      <td>2</td>\n",
       "      <td>47</td>\n",
       "      <td>København NV</td>\n",
       "      <td>Vilhelm Birkedals Vej</td>\n",
       "      <td>0</td>\n",
       "      <td>En super hyggelig og møbleret egoist-lejlighed...</td>\n",
       "      <td>boligportal.dk/lejebolig/dp/2-vaerelses-lejlig...</td>\n",
       "    </tr>\n",
       "    <tr>\n",
       "      <td>5</td>\n",
       "      <td>2 værelses lejlighed på 41 m²</td>\n",
       "      <td>10.500</td>\n",
       "      <td>2</td>\n",
       "      <td>41</td>\n",
       "      <td>København K</td>\n",
       "      <td>Gernersgade</td>\n",
       "      <td>0</td>\n",
       "      <td>Nyrenoveret lejlighed i Nyboder 5 min fra Øste...</td>\n",
       "      <td>boligportal.dk/lejebolig/dp/2-vaerelses-lejlig...</td>\n",
       "    </tr>\n",
       "    <tr>\n",
       "      <td>6</td>\n",
       "      <td>2 værelses lejlighed på 55 m²</td>\n",
       "      <td>7.000</td>\n",
       "      <td>2</td>\n",
       "      <td>55</td>\n",
       "      <td>København N</td>\n",
       "      <td>Fafnersgade</td>\n",
       "      <td>0</td>\n",
       "      <td>Pendler bolig udlejes - ikke tilgængelig i wee...</td>\n",
       "      <td>boligportal.dk/lejebolig/dp/2-vaerelses-lejlig...</td>\n",
       "    </tr>\n",
       "    <tr>\n",
       "      <td>7</td>\n",
       "      <td>1 værelses lejlighed på 20 m²</td>\n",
       "      <td>5.900</td>\n",
       "      <td>1</td>\n",
       "      <td>20</td>\n",
       "      <td>København K</td>\n",
       "      <td>Larslejsstræde</td>\n",
       "      <td>0</td>\n",
       "      <td>Fin og ekstremt godt udnyttet 1-værelses lejli...</td>\n",
       "      <td>boligportal.dk/lejebolig/dp/1-vaerelses-lejlig...</td>\n",
       "    </tr>\n",
       "    <tr>\n",
       "      <td>8</td>\n",
       "      <td>1 værelses lejlighed på 44 m²</td>\n",
       "      <td>9.500</td>\n",
       "      <td>1</td>\n",
       "      <td>44</td>\n",
       "      <td>København K</td>\n",
       "      <td>Schacksgade</td>\n",
       "      <td>0</td>\n",
       "      <td>Rummelig og renoveret et værelses lejlighed i ...</td>\n",
       "      <td>boligportal.dk/lejebolig/dp/1-vaerelses-lejlig...</td>\n",
       "    </tr>\n",
       "    <tr>\n",
       "      <td>9</td>\n",
       "      <td>2 værelses lejlighed på 58 m²</td>\n",
       "      <td>10.500</td>\n",
       "      <td>2</td>\n",
       "      <td>58</td>\n",
       "      <td>København S</td>\n",
       "      <td>Grækenlandsvej</td>\n",
       "      <td>0</td>\n",
       "      <td>Nice furnsihed Apartment. \\r\\n\\r\\nAll kitchen ...</td>\n",
       "      <td>boligportal.dk/lejebolig/dp/2-vaerelses-lejlig...</td>\n",
       "    </tr>\n",
       "  </tbody>\n",
       "</table>\n",
       "</div>"
      ],
      "text/plain": [
       "                           Title   Price  Rooms  m2 Neighbourhood  \\\n",
       "0  1 værelses lejlighed på 32 m²  10.100      1  32   København K   \n",
       "1  3 værelses lejlighed på 70 m²  10.271      3  70   København S   \n",
       "2  1 værelses lejlighed på 45 m²   8.500      1  45  København NV   \n",
       "3  1 værelses lejlighed på 33 m²   9.950      1  33   København K   \n",
       "4  2 værelses lejlighed på 47 m²   3.500      2  47  København NV   \n",
       "5  2 værelses lejlighed på 41 m²  10.500      2  41   København K   \n",
       "6  2 værelses lejlighed på 55 m²   7.000      2  55   København N   \n",
       "7  1 værelses lejlighed på 20 m²   5.900      1  20   København K   \n",
       "8  1 værelses lejlighed på 44 m²   9.500      1  44   København K   \n",
       "9  2 værelses lejlighed på 58 m²  10.500      2  58   København S   \n",
       "\n",
       "                  Street  Posted days ago  \\\n",
       "0      Store Kongensgade                0   \n",
       "1       Else Alfelts Vej                0   \n",
       "2           Gravervænget                0   \n",
       "3      Store Kongensgade                0   \n",
       "4  Vilhelm Birkedals Vej                0   \n",
       "5            Gernersgade                0   \n",
       "6            Fafnersgade                0   \n",
       "7         Larslejsstræde                0   \n",
       "8            Schacksgade                0   \n",
       "9         Grækenlandsvej                0   \n",
       "\n",
       "                                         Description  \\\n",
       "0  Her er en unik mulighed for at flytte ind i de...   \n",
       "1  Nyopført ejendom med 2 og 3 værelses lejlighed...   \n",
       "2  Rummelig et værelses lejlighed 15 minutter fra...   \n",
       "3  1- OG 2-VÆRELSES BOLIGER DEN GAMLE POLITISTATI...   \n",
       "4  En super hyggelig og møbleret egoist-lejlighed...   \n",
       "5  Nyrenoveret lejlighed i Nyboder 5 min fra Øste...   \n",
       "6  Pendler bolig udlejes - ikke tilgængelig i wee...   \n",
       "7  Fin og ekstremt godt udnyttet 1-værelses lejli...   \n",
       "8  Rummelig og renoveret et værelses lejlighed i ...   \n",
       "9  Nice furnsihed Apartment. \\r\\n\\r\\nAll kitchen ...   \n",
       "\n",
       "                                                 URL  \n",
       "0  boligportal.dk/lejebolig/dp/1-vaerelses-lejlig...  \n",
       "1  boligportal.dk/lejebolig/dp/3-vaerelses-lejlig...  \n",
       "2  boligportal.dk/lejebolig/dp/1-vaerelses-lejlig...  \n",
       "3  boligportal.dk/lejebolig/dp/1-vaerelses-lejlig...  \n",
       "4  boligportal.dk/lejebolig/dp/2-vaerelses-lejlig...  \n",
       "5  boligportal.dk/lejebolig/dp/2-vaerelses-lejlig...  \n",
       "6  boligportal.dk/lejebolig/dp/2-vaerelses-lejlig...  \n",
       "7  boligportal.dk/lejebolig/dp/1-vaerelses-lejlig...  \n",
       "8  boligportal.dk/lejebolig/dp/1-vaerelses-lejlig...  \n",
       "9  boligportal.dk/lejebolig/dp/2-vaerelses-lejlig...  "
      ]
     },
     "execution_count": 30,
     "metadata": {},
     "output_type": "execute_result"
    }
   ],
   "source": [
    "df[df[\"Posted days ago\"]==0]"
   ]
  },
  {
   "cell_type": "markdown",
   "metadata": {},
   "source": [
    "### Export"
   ]
  },
  {
   "cell_type": "code",
   "execution_count": 24,
   "metadata": {},
   "outputs": [],
   "source": [
    "df.to_csv(os.path.join(wd, dirName,'BoligPortal_KPH_{}.csv'.format(datetime.now().strftime(\"%d%m%y\"))), index = True, header = True)"
   ]
  },
  {
   "cell_type": "code",
   "execution_count": null,
   "metadata": {},
   "outputs": [],
   "source": []
  }
 ],
 "metadata": {
  "kernelspec": {
   "display_name": "Python 3",
   "language": "python",
   "name": "python3"
  },
  "language_info": {
   "codemirror_mode": {
    "name": "ipython",
    "version": 3
   },
   "file_extension": ".py",
   "mimetype": "text/x-python",
   "name": "python",
   "nbconvert_exporter": "python",
   "pygments_lexer": "ipython3",
   "version": "3.7.4"
  }
 },
 "nbformat": 4,
 "nbformat_minor": 4
}
